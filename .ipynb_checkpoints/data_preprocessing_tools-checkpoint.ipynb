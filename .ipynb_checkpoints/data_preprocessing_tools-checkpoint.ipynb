{
 "cells": [
  {
   "cell_type": "markdown",
   "metadata": {
    "id": "O34vms9y0yNW"
   },
   "source": [
    "# Importing the libraries"
   ]
  },
  {
   "cell_type": "code",
   "execution_count": 1,
   "metadata": {
    "executionInfo": {
     "elapsed": 725,
     "status": "ok",
     "timestamp": 1631127052920,
     "user": {
      "displayName": "Mohamadreza Sheikh",
      "photoUrl": "https://lh3.googleusercontent.com/a-/AOh14GhwBp6J8vn_wLXXsW-cZHXmo0JWpo9tdBjvgH96=s64",
      "userId": "15562218110571803752"
     },
     "user_tz": -270
    },
    "id": "COz2Ny4_0oy9"
   },
   "outputs": [],
   "source": [
    "import numpy as np\n",
    "import matplotlib.pyplot as plt\n",
    "import pandas as pd"
   ]
  },
  {
   "cell_type": "markdown",
   "metadata": {
    "id": "jepkYL1O03pP"
   },
   "source": [
    "# Importing the dataset"
   ]
  },
  {
   "cell_type": "code",
   "execution_count": 2,
   "metadata": {
    "executionInfo": {
     "elapsed": 500,
     "status": "ok",
     "timestamp": 1631127053419,
     "user": {
      "displayName": "Mohamadreza Sheikh",
      "photoUrl": "https://lh3.googleusercontent.com/a-/AOh14GhwBp6J8vn_wLXXsW-cZHXmo0JWpo9tdBjvgH96=s64",
      "userId": "15562218110571803752"
     },
     "user_tz": -270
    },
    "id": "b2f3DjZV08r1"
   },
   "outputs": [],
   "source": [
    "dataset = pd.read_csv('Data.csv')\n",
    "x = dataset.iloc[:, :-1].values\n",
    "y = dataset.iloc[:, -1].values"
   ]
  },
  {
   "cell_type": "code",
   "execution_count": 3,
   "metadata": {
    "colab": {
     "base_uri": "https://localhost:8080/"
    },
    "executionInfo": {
     "elapsed": 6,
     "status": "ok",
     "timestamp": 1631127053420,
     "user": {
      "displayName": "Mohamadreza Sheikh",
      "photoUrl": "https://lh3.googleusercontent.com/a-/AOh14GhwBp6J8vn_wLXXsW-cZHXmo0JWpo9tdBjvgH96=s64",
      "userId": "15562218110571803752"
     },
     "user_tz": -270
    },
    "id": "PqGLD-rv1n89",
    "outputId": "103b776f-020a-4aff-847c-112745d4244f"
   },
   "outputs": [
    {
     "name": "stdout",
     "output_type": "stream",
     "text": [
      "[['France' 44.0 72000.0]\n",
      " ['Spain' 27.0 48000.0]\n",
      " ['Germany' 30.0 54000.0]\n",
      " ['Spain' 38.0 61000.0]\n",
      " ['Germany' 40.0 nan]\n",
      " ['France' 35.0 58000.0]\n",
      " ['Spain' nan 52000.0]\n",
      " ['France' 48.0 79000.0]\n",
      " ['Germany' 50.0 83000.0]\n",
      " ['France' 37.0 67000.0]]\n"
     ]
    }
   ],
   "source": [
    "print(x)"
   ]
  },
  {
   "cell_type": "code",
   "execution_count": 4,
   "metadata": {
    "colab": {
     "base_uri": "https://localhost:8080/"
    },
    "executionInfo": {
     "elapsed": 5,
     "status": "ok",
     "timestamp": 1631127053420,
     "user": {
      "displayName": "Mohamadreza Sheikh",
      "photoUrl": "https://lh3.googleusercontent.com/a-/AOh14GhwBp6J8vn_wLXXsW-cZHXmo0JWpo9tdBjvgH96=s64",
      "userId": "15562218110571803752"
     },
     "user_tz": -270
    },
    "id": "I9qG1vm1Ou07",
    "outputId": "94f94309-75fb-43ad-fac9-9b640c602e9e"
   },
   "outputs": [
    {
     "name": "stdout",
     "output_type": "stream",
     "text": [
      "['No' 'Yes' 'No' 'No' 'Yes' 'Yes' 'No' 'Yes' 'No' 'Yes']\n"
     ]
    }
   ],
   "source": [
    "print(y)"
   ]
  },
  {
   "cell_type": "markdown",
   "metadata": {
    "id": "YZT166BuYKQb"
   },
   "source": [
    "# Taking care of missing data"
   ]
  },
  {
   "cell_type": "code",
   "execution_count": 5,
   "metadata": {
    "executionInfo": {
     "elapsed": 3,
     "status": "ok",
     "timestamp": 1631127053420,
     "user": {
      "displayName": "Mohamadreza Sheikh",
      "photoUrl": "https://lh3.googleusercontent.com/a-/AOh14GhwBp6J8vn_wLXXsW-cZHXmo0JWpo9tdBjvgH96=s64",
      "userId": "15562218110571803752"
     },
     "user_tz": -270
    },
    "id": "4Zj9S9uBYNt4"
   },
   "outputs": [],
   "source": [
    "from sklearn.impute import SimpleImputer\n",
    "imputer = SimpleImputer(missing_values=np.nan, strategy='mean')\n",
    "imputer.fit(x[:, 1:3])\n",
    "x[:, 1:3] = imputer.transform(x[:, 1:3])"
   ]
  },
  {
   "cell_type": "code",
   "execution_count": 6,
   "metadata": {
    "colab": {
     "base_uri": "https://localhost:8080/"
    },
    "executionInfo": {
     "elapsed": 4,
     "status": "ok",
     "timestamp": 1631127053421,
     "user": {
      "displayName": "Mohamadreza Sheikh",
      "photoUrl": "https://lh3.googleusercontent.com/a-/AOh14GhwBp6J8vn_wLXXsW-cZHXmo0JWpo9tdBjvgH96=s64",
      "userId": "15562218110571803752"
     },
     "user_tz": -270
    },
    "id": "bM_ZDi1_aA7j",
    "outputId": "455e5cad-9530-4b0c-a52f-61b52a9e71ca"
   },
   "outputs": [
    {
     "name": "stdout",
     "output_type": "stream",
     "text": [
      "[['France' 44.0 72000.0]\n",
      " ['Spain' 27.0 48000.0]\n",
      " ['Germany' 30.0 54000.0]\n",
      " ['Spain' 38.0 61000.0]\n",
      " ['Germany' 40.0 63777.77777777778]\n",
      " ['France' 35.0 58000.0]\n",
      " ['Spain' 38.77777777777778 52000.0]\n",
      " ['France' 48.0 79000.0]\n",
      " ['Germany' 50.0 83000.0]\n",
      " ['France' 37.0 67000.0]]\n"
     ]
    }
   ],
   "source": [
    "print(x)"
   ]
  },
  {
   "cell_type": "markdown",
   "metadata": {
    "id": "PZxsi56jb8-A"
   },
   "source": [
    "# Encoding categorical data"
   ]
  },
  {
   "cell_type": "markdown",
   "metadata": {
    "id": "_ACP9rX-dNq0"
   },
   "source": [
    "### Encoding the Independent Variable"
   ]
  },
  {
   "cell_type": "code",
   "execution_count": 7,
   "metadata": {
    "executionInfo": {
     "elapsed": 2,
     "status": "ok",
     "timestamp": 1631127053961,
     "user": {
      "displayName": "Mohamadreza Sheikh",
      "photoUrl": "https://lh3.googleusercontent.com/a-/AOh14GhwBp6J8vn_wLXXsW-cZHXmo0JWpo9tdBjvgH96=s64",
      "userId": "15562218110571803752"
     },
     "user_tz": -270
    },
    "id": "mKFoI0gdbvW3"
   },
   "outputs": [],
   "source": [
    "from sklearn.compose import ColumnTransformer\n",
    "from sklearn.preprocessing import OneHotEncoder\n",
    "ct = ColumnTransformer(transformers=[('encoder', OneHotEncoder(), [0])], remainder='passthrough')\n",
    "x = np.array(ct.fit_transform(x))"
   ]
  },
  {
   "cell_type": "code",
   "execution_count": 8,
   "metadata": {
    "colab": {
     "base_uri": "https://localhost:8080/"
    },
    "executionInfo": {
     "elapsed": 4,
     "status": "ok",
     "timestamp": 1631127054473,
     "user": {
      "displayName": "Mohamadreza Sheikh",
      "photoUrl": "https://lh3.googleusercontent.com/a-/AOh14GhwBp6J8vn_wLXXsW-cZHXmo0JWpo9tdBjvgH96=s64",
      "userId": "15562218110571803752"
     },
     "user_tz": -270
    },
    "id": "A55mnj6Ee656",
    "outputId": "ae6e791e-0627-459f-956d-1f1d0ed2ec8d"
   },
   "outputs": [
    {
     "name": "stdout",
     "output_type": "stream",
     "text": [
      "[[1.0 0.0 0.0 44.0 72000.0]\n",
      " [0.0 0.0 1.0 27.0 48000.0]\n",
      " [0.0 1.0 0.0 30.0 54000.0]\n",
      " [0.0 0.0 1.0 38.0 61000.0]\n",
      " [0.0 1.0 0.0 40.0 63777.77777777778]\n",
      " [1.0 0.0 0.0 35.0 58000.0]\n",
      " [0.0 0.0 1.0 38.77777777777778 52000.0]\n",
      " [1.0 0.0 0.0 48.0 79000.0]\n",
      " [0.0 1.0 0.0 50.0 83000.0]\n",
      " [1.0 0.0 0.0 37.0 67000.0]]\n"
     ]
    }
   ],
   "source": [
    "print(x)"
   ]
  },
  {
   "cell_type": "markdown",
   "metadata": {
    "id": "KQnVu3ycfWeo"
   },
   "source": [
    "### Encoding the Dependent Variable"
   ]
  },
  {
   "cell_type": "code",
   "execution_count": 9,
   "metadata": {
    "executionInfo": {
     "elapsed": 2,
     "status": "ok",
     "timestamp": 1631127054473,
     "user": {
      "displayName": "Mohamadreza Sheikh",
      "photoUrl": "https://lh3.googleusercontent.com/a-/AOh14GhwBp6J8vn_wLXXsW-cZHXmo0JWpo9tdBjvgH96=s64",
      "userId": "15562218110571803752"
     },
     "user_tz": -270
    },
    "id": "OxT9OYxZe7pJ"
   },
   "outputs": [],
   "source": [
    "from sklearn.preprocessing import LabelEncoder\n",
    "le = LabelEncoder()\n",
    "y = le.fit_transform(y)"
   ]
  },
  {
   "cell_type": "code",
   "execution_count": 10,
   "metadata": {
    "colab": {
     "base_uri": "https://localhost:8080/"
    },
    "executionInfo": {
     "elapsed": 2,
     "status": "ok",
     "timestamp": 1631127054969,
     "user": {
      "displayName": "Mohamadreza Sheikh",
      "photoUrl": "https://lh3.googleusercontent.com/a-/AOh14GhwBp6J8vn_wLXXsW-cZHXmo0JWpo9tdBjvgH96=s64",
      "userId": "15562218110571803752"
     },
     "user_tz": -270
    },
    "id": "WBu-TocQfx6J",
    "outputId": "e4c5133f-b4e6-440f-8f7d-841b57765302"
   },
   "outputs": [
    {
     "name": "stdout",
     "output_type": "stream",
     "text": [
      "[0 1 0 0 1 1 0 1 0 1]\n"
     ]
    }
   ],
   "source": [
    "print(y)"
   ]
  },
  {
   "cell_type": "markdown",
   "metadata": {
    "id": "pJ1K-tgjgeLe"
   },
   "source": [
    "# Splitting the dataset into the Training and Test set"
   ]
  },
  {
   "cell_type": "code",
   "execution_count": 11,
   "metadata": {
    "executionInfo": {
     "elapsed": 2,
     "status": "ok",
     "timestamp": 1631127054970,
     "user": {
      "displayName": "Mohamadreza Sheikh",
      "photoUrl": "https://lh3.googleusercontent.com/a-/AOh14GhwBp6J8vn_wLXXsW-cZHXmo0JWpo9tdBjvgH96=s64",
      "userId": "15562218110571803752"
     },
     "user_tz": -270
    },
    "id": "QEmXWq2ngIqx"
   },
   "outputs": [],
   "source": [
    "from sklearn.model_selection import train_test_split\n",
    "x_train, x_test, y_train, y_test = train_test_split(x, y, test_size = 0.2, random_state = 1) "
   ]
  },
  {
   "cell_type": "code",
   "execution_count": 12,
   "metadata": {
    "colab": {
     "base_uri": "https://localhost:8080/"
    },
    "executionInfo": {
     "elapsed": 12,
     "status": "ok",
     "timestamp": 1631127055469,
     "user": {
      "displayName": "Mohamadreza Sheikh",
      "photoUrl": "https://lh3.googleusercontent.com/a-/AOh14GhwBp6J8vn_wLXXsW-cZHXmo0JWpo9tdBjvgH96=s64",
      "userId": "15562218110571803752"
     },
     "user_tz": -270
    },
    "id": "_yY3m7JdkFVx",
    "outputId": "1716518d-4faa-4c95-f033-dd11c1b66918"
   },
   "outputs": [
    {
     "name": "stdout",
     "output_type": "stream",
     "text": [
      "[[0.0 0.0 1.0 38.77777777777778 52000.0]\n",
      " [0.0 1.0 0.0 40.0 63777.77777777778]\n",
      " [1.0 0.0 0.0 44.0 72000.0]\n",
      " [0.0 0.0 1.0 38.0 61000.0]\n",
      " [0.0 0.0 1.0 27.0 48000.0]\n",
      " [1.0 0.0 0.0 48.0 79000.0]\n",
      " [0.0 1.0 0.0 50.0 83000.0]\n",
      " [1.0 0.0 0.0 35.0 58000.0]]\n"
     ]
    }
   ],
   "source": [
    "print(x_train)"
   ]
  },
  {
   "cell_type": "code",
   "execution_count": 13,
   "metadata": {
    "colab": {
     "base_uri": "https://localhost:8080/"
    },
    "executionInfo": {
     "elapsed": 8,
     "status": "ok",
     "timestamp": 1631127055470,
     "user": {
      "displayName": "Mohamadreza Sheikh",
      "photoUrl": "https://lh3.googleusercontent.com/a-/AOh14GhwBp6J8vn_wLXXsW-cZHXmo0JWpo9tdBjvgH96=s64",
      "userId": "15562218110571803752"
     },
     "user_tz": -270
    },
    "id": "u7OhjLxLkFdA",
    "outputId": "b339bc68-22c8-4979-916d-afb4a57b6f87"
   },
   "outputs": [
    {
     "name": "stdout",
     "output_type": "stream",
     "text": [
      "[[0.0 1.0 0.0 30.0 54000.0]\n",
      " [1.0 0.0 0.0 37.0 67000.0]]\n"
     ]
    }
   ],
   "source": [
    "print(x_test)"
   ]
  },
  {
   "cell_type": "code",
   "execution_count": 14,
   "metadata": {
    "colab": {
     "base_uri": "https://localhost:8080/"
    },
    "executionInfo": {
     "elapsed": 2,
     "status": "ok",
     "timestamp": 1631127055945,
     "user": {
      "displayName": "Mohamadreza Sheikh",
      "photoUrl": "https://lh3.googleusercontent.com/a-/AOh14GhwBp6J8vn_wLXXsW-cZHXmo0JWpo9tdBjvgH96=s64",
      "userId": "15562218110571803752"
     },
     "user_tz": -270
    },
    "id": "rcbz7arOkFkJ",
    "outputId": "02dc89ca-fa8c-46fe-a4cd-479c2f0b19d3"
   },
   "outputs": [
    {
     "name": "stdout",
     "output_type": "stream",
     "text": [
      "[0 1 0 0 1 1 0 1]\n"
     ]
    }
   ],
   "source": [
    "print(y_train)"
   ]
  },
  {
   "cell_type": "code",
   "execution_count": 15,
   "metadata": {
    "colab": {
     "base_uri": "https://localhost:8080/"
    },
    "executionInfo": {
     "elapsed": 6,
     "status": "ok",
     "timestamp": 1631127056500,
     "user": {
      "displayName": "Mohamadreza Sheikh",
      "photoUrl": "https://lh3.googleusercontent.com/a-/AOh14GhwBp6J8vn_wLXXsW-cZHXmo0JWpo9tdBjvgH96=s64",
      "userId": "15562218110571803752"
     },
     "user_tz": -270
    },
    "id": "DU0WUEF3kFqh",
    "outputId": "95560ee6-7842-4f9c-c481-91c81204c940"
   },
   "outputs": [
    {
     "name": "stdout",
     "output_type": "stream",
     "text": [
      "[0 1]\n"
     ]
    }
   ],
   "source": [
    "print(y_test)"
   ]
  },
  {
   "cell_type": "markdown",
   "metadata": {
    "id": "Uh-H2armlYb5"
   },
   "source": [
    "# Feature Scaling"
   ]
  },
  {
   "cell_type": "code",
   "execution_count": 16,
   "metadata": {
    "executionInfo": {
     "elapsed": 1,
     "status": "ok",
     "timestamp": 1631127057119,
     "user": {
      "displayName": "Mohamadreza Sheikh",
      "photoUrl": "https://lh3.googleusercontent.com/a-/AOh14GhwBp6J8vn_wLXXsW-cZHXmo0JWpo9tdBjvgH96=s64",
      "userId": "15562218110571803752"
     },
     "user_tz": -270
    },
    "id": "8lZs5XohkMDu"
   },
   "outputs": [],
   "source": [
    "from sklearn.preprocessing import StandardScaler\n",
    "sc = StandardScaler()\n",
    "x_train[:, 3:] = sc.fit_transform(x_train[:, 3:])\n",
    "x_test[:, 3:] = sc.transform(x_test[:, 3:])"
   ]
  },
  {
   "cell_type": "code",
   "execution_count": 17,
   "metadata": {
    "colab": {
     "base_uri": "https://localhost:8080/"
    },
    "executionInfo": {
     "elapsed": 4,
     "status": "ok",
     "timestamp": 1631127057563,
     "user": {
      "displayName": "Mohamadreza Sheikh",
      "photoUrl": "https://lh3.googleusercontent.com/a-/AOh14GhwBp6J8vn_wLXXsW-cZHXmo0JWpo9tdBjvgH96=s64",
      "userId": "15562218110571803752"
     },
     "user_tz": -270
    },
    "id": "hobZe8CEtBcN",
    "outputId": "800353d6-a4f3-4ffe-ff5e-f3fa15f5a631"
   },
   "outputs": [
    {
     "name": "stdout",
     "output_type": "stream",
     "text": [
      "[[0.0 0.0 1.0 -0.19159184384578545 -1.0781259408412425]\n",
      " [0.0 1.0 0.0 -0.014117293757057777 -0.07013167641635372]\n",
      " [1.0 0.0 0.0 0.566708506533324 0.633562432710455]\n",
      " [0.0 0.0 1.0 -0.30453019390224867 -0.30786617274297867]\n",
      " [0.0 0.0 1.0 -1.9018011447007988 -1.420463615551582]\n",
      " [1.0 0.0 0.0 1.1475343068237058 1.232653363453549]\n",
      " [0.0 1.0 0.0 1.4379472069688968 1.5749910381638885]\n",
      " [1.0 0.0 0.0 -0.7401495441200351 -0.5646194287757332]]\n"
     ]
    }
   ],
   "source": [
    "print(x_train)"
   ]
  },
  {
   "cell_type": "code",
   "execution_count": 18,
   "metadata": {
    "colab": {
     "base_uri": "https://localhost:8080/"
    },
    "executionInfo": {
     "elapsed": 3,
     "status": "ok",
     "timestamp": 1631127057563,
     "user": {
      "displayName": "Mohamadreza Sheikh",
      "photoUrl": "https://lh3.googleusercontent.com/a-/AOh14GhwBp6J8vn_wLXXsW-cZHXmo0JWpo9tdBjvgH96=s64",
      "userId": "15562218110571803752"
     },
     "user_tz": -270
    },
    "id": "clV74K_OtBZe",
    "outputId": "d9adf096-e708-4633-a641-8557348d18e4"
   },
   "outputs": [
    {
     "name": "stdout",
     "output_type": "stream",
     "text": [
      "[[0.0 1.0 0.0 -1.4661817944830124 -0.9069571034860727]\n",
      " [1.0 0.0 0.0 -0.44973664397484414 0.2056403393225306]]\n"
     ]
    }
   ],
   "source": [
    "print(x_test)"
   ]
  },
  {
   "cell_type": "code",
   "execution_count": null,
   "metadata": {
    "id": "gF2nLfHDrm9b"
   },
   "outputs": [],
   "source": []
  }
 ],
 "metadata": {
  "colab": {
   "authorship_tag": "ABX9TyPe0hUsYKeJrlFZHWoEwy0F",
   "collapsed_sections": [],
   "name": "data_preprocessing_tools.ipynb",
   "provenance": []
  },
  "kernelspec": {
   "display_name": "Python 3",
   "language": "python",
   "name": "python3"
  },
  "language_info": {
   "codemirror_mode": {
    "name": "ipython",
    "version": 3
   },
   "file_extension": ".py",
   "mimetype": "text/x-python",
   "name": "python",
   "nbconvert_exporter": "python",
   "pygments_lexer": "ipython3",
   "version": "3.9.5"
  }
 },
 "nbformat": 4,
 "nbformat_minor": 1
}
